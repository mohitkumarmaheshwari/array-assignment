{
 "cells": [
  {
   "cell_type": "code",
   "execution_count": 1,
   "id": "b48c1ac6-7938-4b41-a49d-555050668764",
   "metadata": {},
   "outputs": [],
   "source": [
    "#q.1- Given an array, check if it contains any duplicates or not.\n",
    "#arr = [1, 2, 4, 2, 5, 9]\n",
    "#Output = True"
   ]
  },
  {
   "cell_type": "markdown",
   "id": "ac67cd3b-6d1d-494d-94d1-6b1f50d0835a",
   "metadata": {},
   "source": [
    "To check if an array contains any duplicates, you can use a hash set (or hash table) to efficiently track unique elements in the array. Here's a Python function to determine if the given array contains duplicates"
   ]
  },
  {
   "cell_type": "code",
   "execution_count": 5,
   "id": "900ac65d-47c5-4f74-b00b-bcd994540764",
   "metadata": {},
   "outputs": [
    {
     "name": "stdout",
     "output_type": "stream",
     "text": [
      "True\n"
     ]
    }
   ],
   "source": [
    "def contains_duplicates(arr):\n",
    "    seen = set()\n",
    "    for num in arr:\n",
    "        if num in seen:\n",
    "            return True\n",
    "        seen.add(num)\n",
    "    return False\n",
    "\n",
    "arr = [1, 2, 4, 2, 5, 9]\n",
    "output = contains_duplicates(arr)\n",
    "print(output)  # Output: True\n"
   ]
  },
  {
   "cell_type": "markdown",
   "id": "b32f57a1-1ced-4adc-a8f2-ac79ce26ebe7",
   "metadata": {},
   "source": [
    "In this function, the seen set is used to keep track of unique elements encountered in the array. For each element in the input array, the function checks if it is already in the seen set. If it is, the function returns True, indicating that there is a duplicate. If the loop completes without finding any duplicates, the function returns False."
   ]
  },
  {
   "cell_type": "code",
   "execution_count": 6,
   "id": "f4e88b72-daa1-4ddb-837a-83ef1a7c899d",
   "metadata": {},
   "outputs": [],
   "source": [
    "#q.2-Given an array and an integer k, rotate the array to the right by k steps.\n",
    "#arr = [1, 2, 3, 4, 5, 6, 7] k = 3\n",
    "#Output = [5, 6, 7, 1, 2, 3, 4]"
   ]
  },
  {
   "cell_type": "markdown",
   "id": "9a4ab3de-22cc-4767-86ee-1af2c85d008f",
   "metadata": {},
   "source": [
    "To rotate an array to the right by k steps, you can reverse the entire array, then reverse the first k elements, and finally reverse the remaining elements. Here's how you can do it in Python:"
   ]
  },
  {
   "cell_type": "code",
   "execution_count": 7,
   "id": "58542e56-7143-4c2f-8d8b-3775f009ef2a",
   "metadata": {},
   "outputs": [
    {
     "name": "stdout",
     "output_type": "stream",
     "text": [
      "[5, 6, 7, 1, 2, 3, 4]\n"
     ]
    }
   ],
   "source": [
    "def rotate_array(arr, k):\n",
    "    n = len(arr)\n",
    "    k = k % n  # Ensure k is within the range of array length\n",
    "    \n",
    "    # Reverse the entire array\n",
    "    arr.reverse()\n",
    "    \n",
    "    # Reverse the first k elements\n",
    "    arr[:k] = reversed(arr[:k])\n",
    "    \n",
    "    # Reverse the remaining elements\n",
    "    arr[k:] = reversed(arr[k:])\n",
    "    \n",
    "    return arr\n",
    "\n",
    "arr = [1, 2, 3, 4, 5, 6, 7]\n",
    "k = 3\n",
    "output = rotate_array(arr, k)\n",
    "print(output)  # Output: [5, 6, 7, 1, 2, 3, 4]\n"
   ]
  },
  {
   "cell_type": "markdown",
   "id": "767c2585-96e8-4e38-b8f8-ef652df007b5",
   "metadata": {},
   "source": [
    "In this code, the rotate_array function takes the input array arr and the number of steps k as parameters. It first calculates the effective rotation steps by taking the modulo of k with the length of the array (n). Then, it reverses the entire array, reverses the first k elements, and finally reverses the remaining elements, resulting in the rotated array.\n",
    "\n",
    "\n",
    "\n",
    "\n",
    "\n"
   ]
  },
  {
   "cell_type": "code",
   "execution_count": 8,
   "id": "05779f04-c96d-4a21-82c6-d8cf5cb108a9",
   "metadata": {},
   "outputs": [],
   "source": [
    "#q.3-Reverse the given array in-place, means without using any extra data structure.\n",
    "#arr = [2, 4, 5, 7, 9, 12]\n",
    "#Output = [12, 9, 7, 5, 4, 2]"
   ]
  },
  {
   "cell_type": "markdown",
   "id": "15736a90-a52d-4c55-b4a8-dea47f36850f",
   "metadata": {},
   "source": [
    "\n",
    "To reverse the given array in-place without using any extra data structure, you can swap the elements from the beginning and end of the array until you reach the middle. Here's how you can do it in Python:"
   ]
  },
  {
   "cell_type": "code",
   "execution_count": 9,
   "id": "575ce78c-35a9-458b-8665-1826aa901be1",
   "metadata": {},
   "outputs": [
    {
     "name": "stdout",
     "output_type": "stream",
     "text": [
      "[12, 9, 7, 5, 4, 2]\n"
     ]
    }
   ],
   "source": [
    "def reverse_array(arr):\n",
    "    left, right = 0, len(arr) - 1\n",
    "    while left < right:\n",
    "        # Swap elements at left and right indices\n",
    "        arr[left], arr[right] = arr[right], arr[left]\n",
    "        left += 1\n",
    "        right -= 1\n",
    "    return arr\n",
    "\n",
    "arr = [2, 4, 5, 7, 9, 12]\n",
    "output = reverse_array(arr)\n",
    "print(output)  # Output: [12, 9, 7, 5, 4, 2]\n"
   ]
  },
  {
   "cell_type": "markdown",
   "id": "0b69ea08-728f-40a0-aa92-51df793f146d",
   "metadata": {},
   "source": [
    "In this code, the reverse_array function takes the input array arr. It uses two pointers, left starting from the beginning of the array and right starting from the end of the array. It swaps the elements at these pointers and moves the pointers towards the center of the array until they meet, effectively reversing the array in-place.\n",
    "\n",
    "\n",
    "\n",
    "\n"
   ]
  },
  {
   "cell_type": "code",
   "execution_count": 10,
   "id": "ed2ce1f7-302d-412b-a743-40bf6d263aa3",
   "metadata": {},
   "outputs": [],
   "source": [
    "#q.4- Given an array of integers, find the maximum element in an array\n",
    "#arr = [10, 5, 20, 8, 15]\n",
    "#Output = 20"
   ]
  },
  {
   "cell_type": "markdown",
   "id": "d55ec73d-4af5-4183-a43d-2e60a8c08fac",
   "metadata": {},
   "source": [
    "To find the maximum element in an array of integers, you can iterate through the array and keep track of the maximum element found so far. Here's how you can do it in Python:"
   ]
  },
  {
   "cell_type": "code",
   "execution_count": 11,
   "id": "edba606b-c973-4d9f-bc53-93048278691e",
   "metadata": {},
   "outputs": [
    {
     "name": "stdout",
     "output_type": "stream",
     "text": [
      "20\n"
     ]
    }
   ],
   "source": [
    "def find_maximum(arr):\n",
    "    if len(arr) == 0:\n",
    "        return None\n",
    "    \n",
    "    max_element = arr[0]  # Initialize max_element with the first element of the array\n",
    "    for num in arr:\n",
    "        if num > max_element:\n",
    "            max_element = num  # Update max_element if a larger number is found\n",
    "    return max_element\n",
    "\n",
    "arr = [10, 5, 20, 8, 15]\n",
    "output = find_maximum(arr)\n",
    "print(output)  # Output: 20\n"
   ]
  },
  {
   "cell_type": "markdown",
   "id": "fa7f4a33-eab7-4856-a678-cf0b2df8faa7",
   "metadata": {},
   "source": [
    "In this code, the find_maximum function takes the input array arr. It initializes max_element with the first element of the array and then iterates through the array. For each element, it compares it with the current max_element. If the element is greater than the current max_element, it updates max_element with the new value. Finally, the function returns the maximum element found in the array."
   ]
  },
  {
   "cell_type": "code",
   "execution_count": 12,
   "id": "1e2c3c73-074e-4c8a-8048-4589e8df560c",
   "metadata": {},
   "outputs": [],
   "source": [
    "#q.5-Given a sorted array, remove the duplicate element without using any extra data structure.\n",
    "#arr = [1, 1, 2, 2, 2, 3, 3, 4, 4, 4, 5, 5]\n",
    "#Output = [1, 2, 3, 4, 5]"
   ]
  },
  {
   "cell_type": "markdown",
   "id": "9484ca03-4862-4a69-8b1d-aa40cfc35fc6",
   "metadata": {},
   "source": [
    "To remove duplicate elements from a sorted array without using any extra data structure, you can modify the input array in-place. Here's how you can do it in Python:"
   ]
  },
  {
   "cell_type": "code",
   "execution_count": 13,
   "id": "0193e24b-5445-4b48-8186-b5cb40ab9183",
   "metadata": {},
   "outputs": [
    {
     "name": "stdout",
     "output_type": "stream",
     "text": [
      "[1, 2, 3, 4, 5]\n"
     ]
    }
   ],
   "source": [
    "def remove_duplicates(arr):\n",
    "    if len(arr) == 0:\n",
    "        return 0\n",
    "    \n",
    "    unique_index = 0  # Index to keep track of the unique elements in the modified array\n",
    "    for i in range(1, len(arr)):\n",
    "        if arr[i] != arr[unique_index]:\n",
    "            unique_index += 1\n",
    "            arr[unique_index] = arr[i]  # Move the unique element to its correct position in the array\n",
    "    \n",
    "    # Modify the original array in-place by resizing it to include only unique elements\n",
    "    del arr[unique_index + 1:]\n",
    "    \n",
    "    return arr\n",
    "\n",
    "arr = [1, 1, 2, 2, 2, 3, 3, 4, 4, 4, 5, 5]\n",
    "output = remove_duplicates(arr)\n",
    "print(output)  # Output: [1, 2, 3, 4, 5]\n"
   ]
  },
  {
   "cell_type": "markdown",
   "id": "ddeb70cf-8d2d-44ee-b090-5cbb1199c148",
   "metadata": {},
   "source": [
    "In this code, the remove_duplicates function takes the input sorted array arr. It initializes unique_index to 0 and then iterates through the array starting from index 1. If the current element is different from the element at unique_index, it increments unique_index and moves the unique element to its correct position in the array. After the loop, the function modifies the original array in-place by resizing it to include only unique elements."
   ]
  },
  {
   "cell_type": "code",
   "execution_count": null,
   "id": "77976ed5-06ab-4367-9861-bc613ba228b4",
   "metadata": {},
   "outputs": [],
   "source": [
    "#array assignment complete"
   ]
  }
 ],
 "metadata": {
  "kernelspec": {
   "display_name": "Python 3 (ipykernel)",
   "language": "python",
   "name": "python3"
  },
  "language_info": {
   "codemirror_mode": {
    "name": "ipython",
    "version": 3
   },
   "file_extension": ".py",
   "mimetype": "text/x-python",
   "name": "python",
   "nbconvert_exporter": "python",
   "pygments_lexer": "ipython3",
   "version": "3.10.8"
  }
 },
 "nbformat": 4,
 "nbformat_minor": 5
}
